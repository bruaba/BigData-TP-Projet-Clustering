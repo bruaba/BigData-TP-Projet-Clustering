{
  "nbformat": 4,
  "nbformat_minor": 0,
  "metadata": {
    "accelerator": "GPU",
    "colab": {
      "name": "Projet_Mask.ipynb",
      "provenance": [],
      "collapsed_sections": [],
      "history_visible": true,
      "mount_file_id": "1EX_eKMHP6zjFUp_c3aD7Q3aDwQNZOnHi",
      "authorship_tag": "ABX9TyPAwZz+bv1cn1hvMAWfB81y"
    },
    "kernelspec": {
      "display_name": "Python 3",
      "name": "python3"
    }
  },
  "cells": [
    {
      "cell_type": "code",
      "metadata": {
        "id": "Un-gY1PjvoK8"
      },
      "source": [
        "# -*- coding: utf-8 -*-\n",
        "\"\"\"\n",
        "Created on Sun Nov 29 18:40:11 2020\n",
        "\n",
        "@author: cheikh\n",
        "\"\"\"\n",
        "#libraries\n",
        "\n",
        "import numpy as np\n",
        "import pandas as pd\n",
        "import matplotlib.pyplot as plt\n",
        "import cv2\n",
        "import random as rand\n",
        "import keras\n",
        "import tensorflow_addons as tfa\n",
        "import matplotlib.pyplot as plt\n",
        "import warnings\n",
        "warnings.filterwarnings('ignore')   # Suppress Matplotlib warnings\n",
        "from PIL import Image\n",
        "from tensorflow.keras.applications import MobileNetV2\n",
        "from tensorflow.keras.layers import AveragePooling2D\n",
        "from tensorflow.keras.layers import Dropout\n",
        "from tensorflow.keras.layers import BatchNormalization\n",
        "from tensorflow.keras.layers import Flatten\n",
        "from tensorflow.keras.layers import Dense\n",
        "from tensorflow.keras.layers import Input\n",
        "from tensorflow.keras.models import Model\n",
        "from tensorflow.keras.optimizers import Adam\n",
        "from tensorflow.keras.applications.mobilenet_v2 import preprocess_input\n",
        "from tensorflow.keras.preprocessing.image import ImageDataGenerator\n",
        "from tensorflow.keras.preprocessing.image import img_to_array\n",
        "from tensorflow.keras.preprocessing.image import load_img\n",
        "from tensorflow.keras.utils import to_categorical\n",
        "from sklearn.preprocessing import LabelEncoder\n",
        "from sklearn.preprocessing import LabelBinarizer\n",
        "from sklearn.model_selection import train_test_split\n",
        "from sklearn.metrics import classification_report\n",
        "#from keras_radam import RAdam\n",
        "from imutils import paths\n",
        "from bs4 import BeautifulSoup"
      ],
      "execution_count": 17,
      "outputs": []
    },
    {
      "cell_type": "code",
      "metadata": {
        "id": "5JoSSVpfMzbA"
      },
      "source": [
        "def load_image_into_numpy_array(path):\n",
        "    \"\"\"Load an image from file into a numpy array.\n",
        "\n",
        "    Puts image into numpy array to feed into tensorflow graph.\n",
        "    Note that by convention we put it into a numpy array with shape\n",
        "    (height, width, channels), where channels=3 for RGB.\n",
        "\n",
        "    Args:\n",
        "      path: the file path to the image\n",
        "\n",
        "    Returns:\n",
        "      uint8 numpy array with shape (img_height, img_width, 3)\n",
        "    \"\"\"\n",
        "    return np.array(Image.open(path))"
      ],
      "execution_count": 18,
      "outputs": []
    },
    {
      "cell_type": "code",
      "metadata": {
        "id": "CsDZaMY-wlPG"
      },
      "source": [
        "def generate_box(obj):  \n",
        "    xmin = int(float(obj.find('xmin').text))\n",
        "    ymin = int(float(obj.find('ymin').text))\n",
        "    xmax = int(float(obj.find('xmax').text))\n",
        "    ymax = int(float(obj.find('ymax').text))\n",
        "    \n",
        "    return [xmin, ymin, xmax, ymax]\n",
        "\n",
        "#This function will give label assciated with each label and convert them to numbers\n",
        "def generate_label(obj):\n",
        "    if obj.find('name').text == \"with_mask\":\n",
        "        return 1\n",
        "    elif obj.find('name').text == \"mask_weared_incorrect\":\n",
        "        return 2\n",
        "    elif obj.find('name').text == \"without_mask\":\n",
        "        return 3\n",
        "    return 0\n",
        "\n",
        "#Using in this main function we parse the annotations file and get the objects out from them\n",
        "# Also we use the above two functions here \n",
        "def generate_target(image_id, file): \n",
        "    with open(file) as f:\n",
        "        data = f.read()\n",
        "        soup = BeautifulSoup(data, 'xml')\n",
        "        objects = soup.find_all('object')\n",
        "\n",
        "        num_objs = len(objects)\n",
        "\n",
        "        boxes = []\n",
        "        labels = []\n",
        "        for i in objects:\n",
        "            boxes.append(generate_box(i))\n",
        "            labels.append(generate_label(i))\n",
        "            \n",
        "        boxes=np.array(boxes)\n",
        "        labels=np.array(labels)\n",
        "\n",
        "        img_id = np.array(image_id)\n",
        "    # Annotation is in dictionary format\n",
        "        target = {}\n",
        "        target[\"boxes\"] = boxes\n",
        "        target[\"labels\"] = labels\n",
        "        \n",
        "        return (target,num_objs)"
      ],
      "execution_count": 19,
      "outputs": []
    },
    {
      "cell_type": "code",
      "metadata": {
        "id": "yT5qDo6VJWGM"
      },
      "source": [
        "import os\n",
        "os.chdir(\"/content/drive/MyDrive/Colab Notebooks\")\n",
        "#!ls"
      ],
      "execution_count": 20,
      "outputs": []
    },
    {
      "cell_type": "code",
      "metadata": {
        "colab": {
          "base_uri": "https://localhost:8080/"
        },
        "id": "9Vn5dLPrwqwx",
        "outputId": "b6acc8cf-c25c-4c6e-c0c2-aa5452746074"
      },
      "source": [
        "\n",
        "\n",
        "imgs = list(sorted(os.listdir(\"MaskTrainDataset/JPEGImages/\")))\n",
        "labels = list(sorted(os.listdir(\"MaskTrainDataset/Annotations/\")))\n",
        "#nombre d'images et de labels\n",
        "print(len(imgs))\n",
        "print(len(labels))"
      ],
      "execution_count": 21,
      "outputs": [
        {
          "output_type": "stream",
          "text": [
            "2655\n",
            "2655\n"
          ],
          "name": "stdout"
        }
      ]
    },
    {
      "cell_type": "code",
      "metadata": {
        "id": "5dm5bJc3T475"
      },
      "source": [
        "# Here we use the above functions and save results in lists\n",
        "targets=[]#store coordinates\n",
        "numobjs=[]#stores number of faces in each image\n",
        "#run the loop for number of images we have\n",
        "\n",
        "i=0\n",
        "for dirname, _, filenames in os.walk('MaskTrainDataset/Annotations/'):\n",
        "    for filename in filenames:\n",
        "        target, numobj = generate_target(i, os.path.join(dirname, filename))\n",
        "        targets.append(target)\n",
        "        numobjs.append(numobj)\n",
        "        i+=1\n",
        "\n"
      ],
      "execution_count": 22,
      "outputs": []
    },
    {
      "cell_type": "code",
      "metadata": {
        "id": "s2A1ou6Cyr6v"
      },
      "source": [
        "i=0\n",
        "face_images=[]\n",
        "face_labels=[]\n",
        "\n",
        "\n",
        "for dirname, _, filenames in os.walk('MaskTrainDataset/JPEGImages/'):\n",
        "    for filename in filenames:\n",
        "        img_path = os.path.join(dirname, filename)\n",
        "        img = cv2.imread(img_path)\n",
        "        for j in range(numobjs[i]):\n",
        "            locs = (targets[i]['boxes'][j])\n",
        "            img1 = img[int(locs[1]):int(locs[3]), int(locs[0]):int(locs[2])]       \n",
        "            try:\n",
        "                img1 = cv2.resize(img1, (224, 224))\n",
        "                img1 = img_to_array(img1)\n",
        "                img1 = preprocess_input(img1)\n",
        "                face_images.append(img1)\n",
        "                face_labels.append(targets[i]['labels'][j])\n",
        "            except cv2.error:\n",
        "                continue\n",
        "            \n",
        "        i+=1\n",
        "face_images= np.array(face_images, dtype=\"float32\")\n",
        "face_labels = np.array(face_labels)\n"
      ],
      "execution_count": 23,
      "outputs": []
    },
    {
      "cell_type": "code",
      "metadata": {
        "colab": {
          "base_uri": "https://localhost:8080/"
        },
        "id": "I49lrVD_5GGR",
        "outputId": "d8e6e6c5-1658-46fc-94fe-b5632a45b1f9"
      },
      "source": [
        "\n",
        "print(len(face_labels))\n",
        "print(len(face_images))"
      ],
      "execution_count": 24,
      "outputs": [
        {
          "output_type": "stream",
          "text": [
            "5773\n",
            "5773\n"
          ],
          "name": "stdout"
        }
      ]
    },
    {
      "cell_type": "code",
      "metadata": {
        "colab": {
          "base_uri": "https://localhost:8080/"
        },
        "id": "OfQkzLrKUIxa",
        "outputId": "05e16364-82bb-4c4b-8c32-18074daff24a"
      },
      "source": [
        "unique, counts = np.unique(face_labels, return_counts=True)\n",
        "print(dict(zip(unique, counts)))"
      ],
      "execution_count": 25,
      "outputs": [
        {
          "output_type": "stream",
          "text": [
            "{1: 4007, 2: 444, 3: 1322}\n"
          ],
          "name": "stdout"
        }
      ]
    },
    {
      "cell_type": "code",
      "metadata": {
        "colab": {
          "base_uri": "https://localhost:8080/"
        },
        "id": "KvKGgPhYUM9q",
        "outputId": "4294a1b8-3242-42aa-d039-c0d5886da462"
      },
      "source": [
        "#Encode the labels in one hot encode form\n",
        "\n",
        "#c'est pour transformer les données non numerique en numerique\n",
        "#ici les labels\n",
        "#https://stackoverrun.com/fr/q/12291556\n",
        "\n",
        "lb = LabelEncoder()\n",
        "labels = lb.fit_transform(face_labels)\n",
        "labels = to_categorical(labels)\n",
        "print(labels)"
      ],
      "execution_count": 26,
      "outputs": [
        {
          "output_type": "stream",
          "text": [
            "[[1. 0. 0.]\n",
            " [1. 0. 0.]\n",
            " [1. 0. 0.]\n",
            " ...\n",
            " [0. 1. 0.]\n",
            " [1. 0. 0.]\n",
            " [1. 0. 0.]]\n"
          ],
          "name": "stdout"
        }
      ]
    },
    {
      "cell_type": "code",
      "metadata": {
        "id": "P8HVBynk5Axt"
      },
      "source": [
        "# construct the training image generator for data augmentation\n",
        "\"\"\"\n",
        "La classe ImageDataGenerator garantit que le modèle reçoit de nouvelles variations des images à chaque époque. \n",
        "Mais il ne renvoie que les images transformées et ne les ajoute pas au corpus original d'images. \n",
        "Si c'était effectivement le cas, alors le modèle verrait les images originales plusieurs fois, ce qui sur-adapterait certainement notre modèle.\n",
        "\n",
        "Un autre avantage d'ImageDataGenerator est qu'il nécessite une moindre utilisation de la mémoire. \n",
        "En effet, sans utiliser cette classe, nous chargeons toutes les images en même temps. Mais en l'utilisant, nous chargeons les images par lots, ce qui économise beaucoup de mémoire.\n",
        "\"\"\"\n",
        "#https://www.analyticsvidhya.com/blog/2020/08/image-augmentation-on-the-fly-using-keras-imagedatagenerator/\n",
        "aug = ImageDataGenerator(\n",
        "\trotation_range=25,\n",
        "\tzoom_range=0.1,\n",
        "\twidth_shift_range=0.1,\n",
        "\theight_shift_range=0.1,\n",
        "\tshear_range=0.15,\n",
        "  vertical_flip = True,\n",
        "\tfill_mode=\"nearest\")"
      ],
      "execution_count": 27,
      "outputs": []
    },
    {
      "cell_type": "code",
      "metadata": {
        "colab": {
          "base_uri": "https://localhost:8080/"
        },
        "id": "YYCan6QkUSfv",
        "outputId": "49459b98-052b-4913-9917-377411331ebf"
      },
      "source": [
        "\n",
        "\n",
        "# load the MobileNetV2 network, ensuring the head FC layer sets are\n",
        "# left off\n",
        "#Notamment, MobileNetV2 + SSDLite est 20 fois plus efficace et 10 fois plus petit, tout en surpassant YOLOv2 sur l'ensemble de données COCO.\n",
        "#https://towardsdatascience.com/review-mobilenetv2-light-weight-model-image-classification-8febb490e61c\n",
        "\n",
        "#https://keras.io/api/applications/mobilenet/\n",
        "\n",
        "baseModel = MobileNetV2(weights=\"imagenet\", include_top=False,\n",
        "                        input_shape=(224, 224, 3))\n",
        "\n",
        "# construct the head of the model that will be placed on top of the\n",
        "# the base model\n",
        "headModel = baseModel.output\n",
        "#https://www.machinecurve.com/index.php/2020/01/30/what-are-max-pooling-average-pooling-global-max-pooling-and-global-average-pooling/\n",
        "headModel = AveragePooling2D(pool_size=(7, 7))(headModel)\n",
        "#appaltir\n",
        "headModel = Flatten(name=\"flatten\")(headModel)\n",
        "\n",
        "\n",
        "headModel = Dense(256, activation=\"relu\")(headModel)\n",
        "#headModel = Dense(512, activation=\"relu\")(headModel)\n",
        "#supprimer certain noeud\n",
        "headModel = Dropout(0.25)(headModel)\n",
        "headModel = Dense(3, activation=\"softmax\")(headModel)\n",
        "\n",
        "\n",
        "# place the head FC model on top of the base model (this will become\n",
        "# the actual model we will train)\n",
        "model = Model(inputs=baseModel.input, outputs=headModel)\n",
        "print(model.summary())\n",
        "\n",
        "# loop over all layers in the base model and freeze them so they will\n",
        "# *not* be updated during the first training process\n",
        "for layer in baseModel.layers:\n",
        "\tlayer.trainable = False"
      ],
      "execution_count": 28,
      "outputs": [
        {
          "output_type": "stream",
          "text": [
            "Model: \"model_1\"\n",
            "__________________________________________________________________________________________________\n",
            "Layer (type)                    Output Shape         Param #     Connected to                     \n",
            "==================================================================================================\n",
            "input_2 (InputLayer)            [(None, 224, 224, 3) 0                                            \n",
            "__________________________________________________________________________________________________\n",
            "Conv1 (Conv2D)                  (None, 112, 112, 32) 864         input_2[0][0]                    \n",
            "__________________________________________________________________________________________________\n",
            "bn_Conv1 (BatchNormalization)   (None, 112, 112, 32) 128         Conv1[0][0]                      \n",
            "__________________________________________________________________________________________________\n",
            "Conv1_relu (ReLU)               (None, 112, 112, 32) 0           bn_Conv1[0][0]                   \n",
            "__________________________________________________________________________________________________\n",
            "expanded_conv_depthwise (Depthw (None, 112, 112, 32) 288         Conv1_relu[0][0]                 \n",
            "__________________________________________________________________________________________________\n",
            "expanded_conv_depthwise_BN (Bat (None, 112, 112, 32) 128         expanded_conv_depthwise[0][0]    \n",
            "__________________________________________________________________________________________________\n",
            "expanded_conv_depthwise_relu (R (None, 112, 112, 32) 0           expanded_conv_depthwise_BN[0][0] \n",
            "__________________________________________________________________________________________________\n",
            "expanded_conv_project (Conv2D)  (None, 112, 112, 16) 512         expanded_conv_depthwise_relu[0][0\n",
            "__________________________________________________________________________________________________\n",
            "expanded_conv_project_BN (Batch (None, 112, 112, 16) 64          expanded_conv_project[0][0]      \n",
            "__________________________________________________________________________________________________\n",
            "block_1_expand (Conv2D)         (None, 112, 112, 96) 1536        expanded_conv_project_BN[0][0]   \n",
            "__________________________________________________________________________________________________\n",
            "block_1_expand_BN (BatchNormali (None, 112, 112, 96) 384         block_1_expand[0][0]             \n",
            "__________________________________________________________________________________________________\n",
            "block_1_expand_relu (ReLU)      (None, 112, 112, 96) 0           block_1_expand_BN[0][0]          \n",
            "__________________________________________________________________________________________________\n",
            "block_1_pad (ZeroPadding2D)     (None, 113, 113, 96) 0           block_1_expand_relu[0][0]        \n",
            "__________________________________________________________________________________________________\n",
            "block_1_depthwise (DepthwiseCon (None, 56, 56, 96)   864         block_1_pad[0][0]                \n",
            "__________________________________________________________________________________________________\n",
            "block_1_depthwise_BN (BatchNorm (None, 56, 56, 96)   384         block_1_depthwise[0][0]          \n",
            "__________________________________________________________________________________________________\n",
            "block_1_depthwise_relu (ReLU)   (None, 56, 56, 96)   0           block_1_depthwise_BN[0][0]       \n",
            "__________________________________________________________________________________________________\n",
            "block_1_project (Conv2D)        (None, 56, 56, 24)   2304        block_1_depthwise_relu[0][0]     \n",
            "__________________________________________________________________________________________________\n",
            "block_1_project_BN (BatchNormal (None, 56, 56, 24)   96          block_1_project[0][0]            \n",
            "__________________________________________________________________________________________________\n",
            "block_2_expand (Conv2D)         (None, 56, 56, 144)  3456        block_1_project_BN[0][0]         \n",
            "__________________________________________________________________________________________________\n",
            "block_2_expand_BN (BatchNormali (None, 56, 56, 144)  576         block_2_expand[0][0]             \n",
            "__________________________________________________________________________________________________\n",
            "block_2_expand_relu (ReLU)      (None, 56, 56, 144)  0           block_2_expand_BN[0][0]          \n",
            "__________________________________________________________________________________________________\n",
            "block_2_depthwise (DepthwiseCon (None, 56, 56, 144)  1296        block_2_expand_relu[0][0]        \n",
            "__________________________________________________________________________________________________\n",
            "block_2_depthwise_BN (BatchNorm (None, 56, 56, 144)  576         block_2_depthwise[0][0]          \n",
            "__________________________________________________________________________________________________\n",
            "block_2_depthwise_relu (ReLU)   (None, 56, 56, 144)  0           block_2_depthwise_BN[0][0]       \n",
            "__________________________________________________________________________________________________\n",
            "block_2_project (Conv2D)        (None, 56, 56, 24)   3456        block_2_depthwise_relu[0][0]     \n",
            "__________________________________________________________________________________________________\n",
            "block_2_project_BN (BatchNormal (None, 56, 56, 24)   96          block_2_project[0][0]            \n",
            "__________________________________________________________________________________________________\n",
            "block_2_add (Add)               (None, 56, 56, 24)   0           block_1_project_BN[0][0]         \n",
            "                                                                 block_2_project_BN[0][0]         \n",
            "__________________________________________________________________________________________________\n",
            "block_3_expand (Conv2D)         (None, 56, 56, 144)  3456        block_2_add[0][0]                \n",
            "__________________________________________________________________________________________________\n",
            "block_3_expand_BN (BatchNormali (None, 56, 56, 144)  576         block_3_expand[0][0]             \n",
            "__________________________________________________________________________________________________\n",
            "block_3_expand_relu (ReLU)      (None, 56, 56, 144)  0           block_3_expand_BN[0][0]          \n",
            "__________________________________________________________________________________________________\n",
            "block_3_pad (ZeroPadding2D)     (None, 57, 57, 144)  0           block_3_expand_relu[0][0]        \n",
            "__________________________________________________________________________________________________\n",
            "block_3_depthwise (DepthwiseCon (None, 28, 28, 144)  1296        block_3_pad[0][0]                \n",
            "__________________________________________________________________________________________________\n",
            "block_3_depthwise_BN (BatchNorm (None, 28, 28, 144)  576         block_3_depthwise[0][0]          \n",
            "__________________________________________________________________________________________________\n",
            "block_3_depthwise_relu (ReLU)   (None, 28, 28, 144)  0           block_3_depthwise_BN[0][0]       \n",
            "__________________________________________________________________________________________________\n",
            "block_3_project (Conv2D)        (None, 28, 28, 32)   4608        block_3_depthwise_relu[0][0]     \n",
            "__________________________________________________________________________________________________\n",
            "block_3_project_BN (BatchNormal (None, 28, 28, 32)   128         block_3_project[0][0]            \n",
            "__________________________________________________________________________________________________\n",
            "block_4_expand (Conv2D)         (None, 28, 28, 192)  6144        block_3_project_BN[0][0]         \n",
            "__________________________________________________________________________________________________\n",
            "block_4_expand_BN (BatchNormali (None, 28, 28, 192)  768         block_4_expand[0][0]             \n",
            "__________________________________________________________________________________________________\n",
            "block_4_expand_relu (ReLU)      (None, 28, 28, 192)  0           block_4_expand_BN[0][0]          \n",
            "__________________________________________________________________________________________________\n",
            "block_4_depthwise (DepthwiseCon (None, 28, 28, 192)  1728        block_4_expand_relu[0][0]        \n",
            "__________________________________________________________________________________________________\n",
            "block_4_depthwise_BN (BatchNorm (None, 28, 28, 192)  768         block_4_depthwise[0][0]          \n",
            "__________________________________________________________________________________________________\n",
            "block_4_depthwise_relu (ReLU)   (None, 28, 28, 192)  0           block_4_depthwise_BN[0][0]       \n",
            "__________________________________________________________________________________________________\n",
            "block_4_project (Conv2D)        (None, 28, 28, 32)   6144        block_4_depthwise_relu[0][0]     \n",
            "__________________________________________________________________________________________________\n",
            "block_4_project_BN (BatchNormal (None, 28, 28, 32)   128         block_4_project[0][0]            \n",
            "__________________________________________________________________________________________________\n",
            "block_4_add (Add)               (None, 28, 28, 32)   0           block_3_project_BN[0][0]         \n",
            "                                                                 block_4_project_BN[0][0]         \n",
            "__________________________________________________________________________________________________\n",
            "block_5_expand (Conv2D)         (None, 28, 28, 192)  6144        block_4_add[0][0]                \n",
            "__________________________________________________________________________________________________\n",
            "block_5_expand_BN (BatchNormali (None, 28, 28, 192)  768         block_5_expand[0][0]             \n",
            "__________________________________________________________________________________________________\n",
            "block_5_expand_relu (ReLU)      (None, 28, 28, 192)  0           block_5_expand_BN[0][0]          \n",
            "__________________________________________________________________________________________________\n",
            "block_5_depthwise (DepthwiseCon (None, 28, 28, 192)  1728        block_5_expand_relu[0][0]        \n",
            "__________________________________________________________________________________________________\n",
            "block_5_depthwise_BN (BatchNorm (None, 28, 28, 192)  768         block_5_depthwise[0][0]          \n",
            "__________________________________________________________________________________________________\n",
            "block_5_depthwise_relu (ReLU)   (None, 28, 28, 192)  0           block_5_depthwise_BN[0][0]       \n",
            "__________________________________________________________________________________________________\n",
            "block_5_project (Conv2D)        (None, 28, 28, 32)   6144        block_5_depthwise_relu[0][0]     \n",
            "__________________________________________________________________________________________________\n",
            "block_5_project_BN (BatchNormal (None, 28, 28, 32)   128         block_5_project[0][0]            \n",
            "__________________________________________________________________________________________________\n",
            "block_5_add (Add)               (None, 28, 28, 32)   0           block_4_add[0][0]                \n",
            "                                                                 block_5_project_BN[0][0]         \n",
            "__________________________________________________________________________________________________\n",
            "block_6_expand (Conv2D)         (None, 28, 28, 192)  6144        block_5_add[0][0]                \n",
            "__________________________________________________________________________________________________\n",
            "block_6_expand_BN (BatchNormali (None, 28, 28, 192)  768         block_6_expand[0][0]             \n",
            "__________________________________________________________________________________________________\n",
            "block_6_expand_relu (ReLU)      (None, 28, 28, 192)  0           block_6_expand_BN[0][0]          \n",
            "__________________________________________________________________________________________________\n",
            "block_6_pad (ZeroPadding2D)     (None, 29, 29, 192)  0           block_6_expand_relu[0][0]        \n",
            "__________________________________________________________________________________________________\n",
            "block_6_depthwise (DepthwiseCon (None, 14, 14, 192)  1728        block_6_pad[0][0]                \n",
            "__________________________________________________________________________________________________\n",
            "block_6_depthwise_BN (BatchNorm (None, 14, 14, 192)  768         block_6_depthwise[0][0]          \n",
            "__________________________________________________________________________________________________\n",
            "block_6_depthwise_relu (ReLU)   (None, 14, 14, 192)  0           block_6_depthwise_BN[0][0]       \n",
            "__________________________________________________________________________________________________\n",
            "block_6_project (Conv2D)        (None, 14, 14, 64)   12288       block_6_depthwise_relu[0][0]     \n",
            "__________________________________________________________________________________________________\n",
            "block_6_project_BN (BatchNormal (None, 14, 14, 64)   256         block_6_project[0][0]            \n",
            "__________________________________________________________________________________________________\n",
            "block_7_expand (Conv2D)         (None, 14, 14, 384)  24576       block_6_project_BN[0][0]         \n",
            "__________________________________________________________________________________________________\n",
            "block_7_expand_BN (BatchNormali (None, 14, 14, 384)  1536        block_7_expand[0][0]             \n",
            "__________________________________________________________________________________________________\n",
            "block_7_expand_relu (ReLU)      (None, 14, 14, 384)  0           block_7_expand_BN[0][0]          \n",
            "__________________________________________________________________________________________________\n",
            "block_7_depthwise (DepthwiseCon (None, 14, 14, 384)  3456        block_7_expand_relu[0][0]        \n",
            "__________________________________________________________________________________________________\n",
            "block_7_depthwise_BN (BatchNorm (None, 14, 14, 384)  1536        block_7_depthwise[0][0]          \n",
            "__________________________________________________________________________________________________\n",
            "block_7_depthwise_relu (ReLU)   (None, 14, 14, 384)  0           block_7_depthwise_BN[0][0]       \n",
            "__________________________________________________________________________________________________\n",
            "block_7_project (Conv2D)        (None, 14, 14, 64)   24576       block_7_depthwise_relu[0][0]     \n",
            "__________________________________________________________________________________________________\n",
            "block_7_project_BN (BatchNormal (None, 14, 14, 64)   256         block_7_project[0][0]            \n",
            "__________________________________________________________________________________________________\n",
            "block_7_add (Add)               (None, 14, 14, 64)   0           block_6_project_BN[0][0]         \n",
            "                                                                 block_7_project_BN[0][0]         \n",
            "__________________________________________________________________________________________________\n",
            "block_8_expand (Conv2D)         (None, 14, 14, 384)  24576       block_7_add[0][0]                \n",
            "__________________________________________________________________________________________________\n",
            "block_8_expand_BN (BatchNormali (None, 14, 14, 384)  1536        block_8_expand[0][0]             \n",
            "__________________________________________________________________________________________________\n",
            "block_8_expand_relu (ReLU)      (None, 14, 14, 384)  0           block_8_expand_BN[0][0]          \n",
            "__________________________________________________________________________________________________\n",
            "block_8_depthwise (DepthwiseCon (None, 14, 14, 384)  3456        block_8_expand_relu[0][0]        \n",
            "__________________________________________________________________________________________________\n",
            "block_8_depthwise_BN (BatchNorm (None, 14, 14, 384)  1536        block_8_depthwise[0][0]          \n",
            "__________________________________________________________________________________________________\n",
            "block_8_depthwise_relu (ReLU)   (None, 14, 14, 384)  0           block_8_depthwise_BN[0][0]       \n",
            "__________________________________________________________________________________________________\n",
            "block_8_project (Conv2D)        (None, 14, 14, 64)   24576       block_8_depthwise_relu[0][0]     \n",
            "__________________________________________________________________________________________________\n",
            "block_8_project_BN (BatchNormal (None, 14, 14, 64)   256         block_8_project[0][0]            \n",
            "__________________________________________________________________________________________________\n",
            "block_8_add (Add)               (None, 14, 14, 64)   0           block_7_add[0][0]                \n",
            "                                                                 block_8_project_BN[0][0]         \n",
            "__________________________________________________________________________________________________\n",
            "block_9_expand (Conv2D)         (None, 14, 14, 384)  24576       block_8_add[0][0]                \n",
            "__________________________________________________________________________________________________\n",
            "block_9_expand_BN (BatchNormali (None, 14, 14, 384)  1536        block_9_expand[0][0]             \n",
            "__________________________________________________________________________________________________\n",
            "block_9_expand_relu (ReLU)      (None, 14, 14, 384)  0           block_9_expand_BN[0][0]          \n",
            "__________________________________________________________________________________________________\n",
            "block_9_depthwise (DepthwiseCon (None, 14, 14, 384)  3456        block_9_expand_relu[0][0]        \n",
            "__________________________________________________________________________________________________\n",
            "block_9_depthwise_BN (BatchNorm (None, 14, 14, 384)  1536        block_9_depthwise[0][0]          \n",
            "__________________________________________________________________________________________________\n",
            "block_9_depthwise_relu (ReLU)   (None, 14, 14, 384)  0           block_9_depthwise_BN[0][0]       \n",
            "__________________________________________________________________________________________________\n",
            "block_9_project (Conv2D)        (None, 14, 14, 64)   24576       block_9_depthwise_relu[0][0]     \n",
            "__________________________________________________________________________________________________\n",
            "block_9_project_BN (BatchNormal (None, 14, 14, 64)   256         block_9_project[0][0]            \n",
            "__________________________________________________________________________________________________\n",
            "block_9_add (Add)               (None, 14, 14, 64)   0           block_8_add[0][0]                \n",
            "                                                                 block_9_project_BN[0][0]         \n",
            "__________________________________________________________________________________________________\n",
            "block_10_expand (Conv2D)        (None, 14, 14, 384)  24576       block_9_add[0][0]                \n",
            "__________________________________________________________________________________________________\n",
            "block_10_expand_BN (BatchNormal (None, 14, 14, 384)  1536        block_10_expand[0][0]            \n",
            "__________________________________________________________________________________________________\n",
            "block_10_expand_relu (ReLU)     (None, 14, 14, 384)  0           block_10_expand_BN[0][0]         \n",
            "__________________________________________________________________________________________________\n",
            "block_10_depthwise (DepthwiseCo (None, 14, 14, 384)  3456        block_10_expand_relu[0][0]       \n",
            "__________________________________________________________________________________________________\n",
            "block_10_depthwise_BN (BatchNor (None, 14, 14, 384)  1536        block_10_depthwise[0][0]         \n",
            "__________________________________________________________________________________________________\n",
            "block_10_depthwise_relu (ReLU)  (None, 14, 14, 384)  0           block_10_depthwise_BN[0][0]      \n",
            "__________________________________________________________________________________________________\n",
            "block_10_project (Conv2D)       (None, 14, 14, 96)   36864       block_10_depthwise_relu[0][0]    \n",
            "__________________________________________________________________________________________________\n",
            "block_10_project_BN (BatchNorma (None, 14, 14, 96)   384         block_10_project[0][0]           \n",
            "__________________________________________________________________________________________________\n",
            "block_11_expand (Conv2D)        (None, 14, 14, 576)  55296       block_10_project_BN[0][0]        \n",
            "__________________________________________________________________________________________________\n",
            "block_11_expand_BN (BatchNormal (None, 14, 14, 576)  2304        block_11_expand[0][0]            \n",
            "__________________________________________________________________________________________________\n",
            "block_11_expand_relu (ReLU)     (None, 14, 14, 576)  0           block_11_expand_BN[0][0]         \n",
            "__________________________________________________________________________________________________\n",
            "block_11_depthwise (DepthwiseCo (None, 14, 14, 576)  5184        block_11_expand_relu[0][0]       \n",
            "__________________________________________________________________________________________________\n",
            "block_11_depthwise_BN (BatchNor (None, 14, 14, 576)  2304        block_11_depthwise[0][0]         \n",
            "__________________________________________________________________________________________________\n",
            "block_11_depthwise_relu (ReLU)  (None, 14, 14, 576)  0           block_11_depthwise_BN[0][0]      \n",
            "__________________________________________________________________________________________________\n",
            "block_11_project (Conv2D)       (None, 14, 14, 96)   55296       block_11_depthwise_relu[0][0]    \n",
            "__________________________________________________________________________________________________\n",
            "block_11_project_BN (BatchNorma (None, 14, 14, 96)   384         block_11_project[0][0]           \n",
            "__________________________________________________________________________________________________\n",
            "block_11_add (Add)              (None, 14, 14, 96)   0           block_10_project_BN[0][0]        \n",
            "                                                                 block_11_project_BN[0][0]        \n",
            "__________________________________________________________________________________________________\n",
            "block_12_expand (Conv2D)        (None, 14, 14, 576)  55296       block_11_add[0][0]               \n",
            "__________________________________________________________________________________________________\n",
            "block_12_expand_BN (BatchNormal (None, 14, 14, 576)  2304        block_12_expand[0][0]            \n",
            "__________________________________________________________________________________________________\n",
            "block_12_expand_relu (ReLU)     (None, 14, 14, 576)  0           block_12_expand_BN[0][0]         \n",
            "__________________________________________________________________________________________________\n",
            "block_12_depthwise (DepthwiseCo (None, 14, 14, 576)  5184        block_12_expand_relu[0][0]       \n",
            "__________________________________________________________________________________________________\n",
            "block_12_depthwise_BN (BatchNor (None, 14, 14, 576)  2304        block_12_depthwise[0][0]         \n",
            "__________________________________________________________________________________________________\n",
            "block_12_depthwise_relu (ReLU)  (None, 14, 14, 576)  0           block_12_depthwise_BN[0][0]      \n",
            "__________________________________________________________________________________________________\n",
            "block_12_project (Conv2D)       (None, 14, 14, 96)   55296       block_12_depthwise_relu[0][0]    \n",
            "__________________________________________________________________________________________________\n",
            "block_12_project_BN (BatchNorma (None, 14, 14, 96)   384         block_12_project[0][0]           \n",
            "__________________________________________________________________________________________________\n",
            "block_12_add (Add)              (None, 14, 14, 96)   0           block_11_add[0][0]               \n",
            "                                                                 block_12_project_BN[0][0]        \n",
            "__________________________________________________________________________________________________\n",
            "block_13_expand (Conv2D)        (None, 14, 14, 576)  55296       block_12_add[0][0]               \n",
            "__________________________________________________________________________________________________\n",
            "block_13_expand_BN (BatchNormal (None, 14, 14, 576)  2304        block_13_expand[0][0]            \n",
            "__________________________________________________________________________________________________\n",
            "block_13_expand_relu (ReLU)     (None, 14, 14, 576)  0           block_13_expand_BN[0][0]         \n",
            "__________________________________________________________________________________________________\n",
            "block_13_pad (ZeroPadding2D)    (None, 15, 15, 576)  0           block_13_expand_relu[0][0]       \n",
            "__________________________________________________________________________________________________\n",
            "block_13_depthwise (DepthwiseCo (None, 7, 7, 576)    5184        block_13_pad[0][0]               \n",
            "__________________________________________________________________________________________________\n",
            "block_13_depthwise_BN (BatchNor (None, 7, 7, 576)    2304        block_13_depthwise[0][0]         \n",
            "__________________________________________________________________________________________________\n",
            "block_13_depthwise_relu (ReLU)  (None, 7, 7, 576)    0           block_13_depthwise_BN[0][0]      \n",
            "__________________________________________________________________________________________________\n",
            "block_13_project (Conv2D)       (None, 7, 7, 160)    92160       block_13_depthwise_relu[0][0]    \n",
            "__________________________________________________________________________________________________\n",
            "block_13_project_BN (BatchNorma (None, 7, 7, 160)    640         block_13_project[0][0]           \n",
            "__________________________________________________________________________________________________\n",
            "block_14_expand (Conv2D)        (None, 7, 7, 960)    153600      block_13_project_BN[0][0]        \n",
            "__________________________________________________________________________________________________\n",
            "block_14_expand_BN (BatchNormal (None, 7, 7, 960)    3840        block_14_expand[0][0]            \n",
            "__________________________________________________________________________________________________\n",
            "block_14_expand_relu (ReLU)     (None, 7, 7, 960)    0           block_14_expand_BN[0][0]         \n",
            "__________________________________________________________________________________________________\n",
            "block_14_depthwise (DepthwiseCo (None, 7, 7, 960)    8640        block_14_expand_relu[0][0]       \n",
            "__________________________________________________________________________________________________\n",
            "block_14_depthwise_BN (BatchNor (None, 7, 7, 960)    3840        block_14_depthwise[0][0]         \n",
            "__________________________________________________________________________________________________\n",
            "block_14_depthwise_relu (ReLU)  (None, 7, 7, 960)    0           block_14_depthwise_BN[0][0]      \n",
            "__________________________________________________________________________________________________\n",
            "block_14_project (Conv2D)       (None, 7, 7, 160)    153600      block_14_depthwise_relu[0][0]    \n",
            "__________________________________________________________________________________________________\n",
            "block_14_project_BN (BatchNorma (None, 7, 7, 160)    640         block_14_project[0][0]           \n",
            "__________________________________________________________________________________________________\n",
            "block_14_add (Add)              (None, 7, 7, 160)    0           block_13_project_BN[0][0]        \n",
            "                                                                 block_14_project_BN[0][0]        \n",
            "__________________________________________________________________________________________________\n",
            "block_15_expand (Conv2D)        (None, 7, 7, 960)    153600      block_14_add[0][0]               \n",
            "__________________________________________________________________________________________________\n",
            "block_15_expand_BN (BatchNormal (None, 7, 7, 960)    3840        block_15_expand[0][0]            \n",
            "__________________________________________________________________________________________________\n",
            "block_15_expand_relu (ReLU)     (None, 7, 7, 960)    0           block_15_expand_BN[0][0]         \n",
            "__________________________________________________________________________________________________\n",
            "block_15_depthwise (DepthwiseCo (None, 7, 7, 960)    8640        block_15_expand_relu[0][0]       \n",
            "__________________________________________________________________________________________________\n",
            "block_15_depthwise_BN (BatchNor (None, 7, 7, 960)    3840        block_15_depthwise[0][0]         \n",
            "__________________________________________________________________________________________________\n",
            "block_15_depthwise_relu (ReLU)  (None, 7, 7, 960)    0           block_15_depthwise_BN[0][0]      \n",
            "__________________________________________________________________________________________________\n",
            "block_15_project (Conv2D)       (None, 7, 7, 160)    153600      block_15_depthwise_relu[0][0]    \n",
            "__________________________________________________________________________________________________\n",
            "block_15_project_BN (BatchNorma (None, 7, 7, 160)    640         block_15_project[0][0]           \n",
            "__________________________________________________________________________________________________\n",
            "block_15_add (Add)              (None, 7, 7, 160)    0           block_14_add[0][0]               \n",
            "                                                                 block_15_project_BN[0][0]        \n",
            "__________________________________________________________________________________________________\n",
            "block_16_expand (Conv2D)        (None, 7, 7, 960)    153600      block_15_add[0][0]               \n",
            "__________________________________________________________________________________________________\n",
            "block_16_expand_BN (BatchNormal (None, 7, 7, 960)    3840        block_16_expand[0][0]            \n",
            "__________________________________________________________________________________________________\n",
            "block_16_expand_relu (ReLU)     (None, 7, 7, 960)    0           block_16_expand_BN[0][0]         \n",
            "__________________________________________________________________________________________________\n",
            "block_16_depthwise (DepthwiseCo (None, 7, 7, 960)    8640        block_16_expand_relu[0][0]       \n",
            "__________________________________________________________________________________________________\n",
            "block_16_depthwise_BN (BatchNor (None, 7, 7, 960)    3840        block_16_depthwise[0][0]         \n",
            "__________________________________________________________________________________________________\n",
            "block_16_depthwise_relu (ReLU)  (None, 7, 7, 960)    0           block_16_depthwise_BN[0][0]      \n",
            "__________________________________________________________________________________________________\n",
            "block_16_project (Conv2D)       (None, 7, 7, 320)    307200      block_16_depthwise_relu[0][0]    \n",
            "__________________________________________________________________________________________________\n",
            "block_16_project_BN (BatchNorma (None, 7, 7, 320)    1280        block_16_project[0][0]           \n",
            "__________________________________________________________________________________________________\n",
            "Conv_1 (Conv2D)                 (None, 7, 7, 1280)   409600      block_16_project_BN[0][0]        \n",
            "__________________________________________________________________________________________________\n",
            "Conv_1_bn (BatchNormalization)  (None, 7, 7, 1280)   5120        Conv_1[0][0]                     \n",
            "__________________________________________________________________________________________________\n",
            "out_relu (ReLU)                 (None, 7, 7, 1280)   0           Conv_1_bn[0][0]                  \n",
            "__________________________________________________________________________________________________\n",
            "average_pooling2d_1 (AveragePoo (None, 1, 1, 1280)   0           out_relu[0][0]                   \n",
            "__________________________________________________________________________________________________\n",
            "flatten (Flatten)               (None, 1280)         0           average_pooling2d_1[0][0]        \n",
            "__________________________________________________________________________________________________\n",
            "dense_2 (Dense)                 (None, 256)          327936      flatten[0][0]                    \n",
            "__________________________________________________________________________________________________\n",
            "dropout_1 (Dropout)             (None, 256)          0           dense_2[0][0]                    \n",
            "__________________________________________________________________________________________________\n",
            "dense_3 (Dense)                 (None, 3)            771         dropout_1[0][0]                  \n",
            "==================================================================================================\n",
            "Total params: 2,586,691\n",
            "Trainable params: 2,552,579\n",
            "Non-trainable params: 34,112\n",
            "__________________________________________________________________________________________________\n",
            "None\n"
          ],
          "name": "stdout"
        }
      ]
    },
    {
      "cell_type": "code",
      "metadata": {
        "id": "ATU92ddD48B2"
      },
      "source": [
        "# initialize the initial learning rate, number of epochs to train for,\n",
        "# and batch size\n",
        "INIT_LR = 1e-4\n",
        "EPOCHS = 50\n",
        "BS = 32"
      ],
      "execution_count": 29,
      "outputs": []
    },
    {
      "cell_type": "code",
      "metadata": {
        "id": "U7Bigd_QUcW4"
      },
      "source": [
        "#divide data into training and testing sets\n",
        "(trainX, testX, trainY, testY) = train_test_split(face_images, labels,\n",
        "    test_size=0.35, stratify=labels, random_state=42)\n"
      ],
      "execution_count": 31,
      "outputs": []
    },
    {
      "cell_type": "code",
      "metadata": {
        "id": "3Zp82ReD4xLv"
      },
      "source": [
        "#Free some space.I did this tep as the notebook was running out of space while training\n",
        "#del targets,face_images,face_labels"
      ],
      "execution_count": null,
      "outputs": []
    },
    {
      "cell_type": "code",
      "metadata": {
        "id": "P1G5PYjQ4pov"
      },
      "source": [
        "# Définition de l'optimizer (avec quelques paramètres qu'il faudra adapter à ses besoins)\n",
        "#opt = RAdam(total_steps=5000, warmup_proportion=0.1, min_lr=INIT_LR,  name='lr')\n",
        "# essayer de mettre 10000.0\n",
        "\n",
        "\n",
        "\"\"\"\n",
        "opt = tfa.optimizers.RectifiedAdam(\n",
        "    lr=INIT_LR,\n",
        "    total_steps=5000,\n",
        "    warmup_proportion=0.1,\n",
        "    min_lr=INIT_LR\n",
        ")\n",
        "\"\"\"\n",
        "\"\"\"\n",
        "ranger = tfa.optimizers.Lookahead(opt, sync_period=6, slow_step_size=0.5)\n",
        "\"\"\"\n",
        "\n",
        "#https://www.pyimagesearch.com/2019/10/07/is-rectified-adam-actually-better-than-adam/\n",
        "\n",
        "opt = Adam(lr=INIT_LR, decay=INIT_LR / EPOCHS)\n",
        "\n"
      ],
      "execution_count": 32,
      "outputs": []
    },
    {
      "cell_type": "code",
      "metadata": {
        "id": "fIJGTqqW7AP8"
      },
      "source": [
        "# Utilisation de l'optimizer dans un model (déjà configuré avant)\n",
        "model.compile(loss=\"categorical_crossentropy\", optimizer=opt, metrics=[\"accuracy\"])"
      ],
      "execution_count": 33,
      "outputs": []
    },
    {
      "cell_type": "code",
      "metadata": {
        "colab": {
          "base_uri": "https://localhost:8080/"
        },
        "id": "K66FwB8DUmqw",
        "outputId": "b3cb64c6-3dc3-4275-e957-4432e8b6a631"
      },
      "source": [
        "\n",
        "# train the head of the network\n",
        "print(\"[INFO] training head...\")\n",
        "\n",
        "H = model.fit(\n",
        "\taug.flow(trainX, trainY, batch_size=BS),\n",
        "\n",
        "\tvalidation_data=(testX, testY),\n",
        "\n",
        "\tepochs=EPOCHS\n",
        "  )\n",
        "\n"
      ],
      "execution_count": 34,
      "outputs": [
        {
          "output_type": "stream",
          "text": [
            "[INFO] training head...\n",
            "Epoch 1/50\n",
            "118/118 [==============================] - 49s 339ms/step - loss: 0.9271 - accuracy: 0.6370 - val_loss: 0.8191 - val_accuracy: 0.6670\n",
            "Epoch 2/50\n",
            "118/118 [==============================] - 39s 329ms/step - loss: 0.8395 - accuracy: 0.6689 - val_loss: 0.8087 - val_accuracy: 0.6764\n",
            "Epoch 3/50\n",
            "118/118 [==============================] - 39s 330ms/step - loss: 0.7659 - accuracy: 0.6980 - val_loss: 0.8112 - val_accuracy: 0.6769\n",
            "Epoch 4/50\n",
            "118/118 [==============================] - 39s 328ms/step - loss: 0.8098 - accuracy: 0.6772 - val_loss: 0.8039 - val_accuracy: 0.6873\n",
            "Epoch 5/50\n",
            "118/118 [==============================] - 39s 329ms/step - loss: 0.7869 - accuracy: 0.6797 - val_loss: 0.8046 - val_accuracy: 0.6922\n",
            "Epoch 6/50\n",
            "118/118 [==============================] - 39s 330ms/step - loss: 0.7656 - accuracy: 0.6964 - val_loss: 0.8024 - val_accuracy: 0.6917\n",
            "Epoch 7/50\n",
            "118/118 [==============================] - 39s 332ms/step - loss: 0.7579 - accuracy: 0.6954 - val_loss: 0.8069 - val_accuracy: 0.6799\n",
            "Epoch 8/50\n",
            "118/118 [==============================] - 39s 332ms/step - loss: 0.7366 - accuracy: 0.6994 - val_loss: 0.8004 - val_accuracy: 0.6873\n",
            "Epoch 9/50\n",
            "118/118 [==============================] - 39s 331ms/step - loss: 0.7530 - accuracy: 0.6949 - val_loss: 0.8041 - val_accuracy: 0.6809\n",
            "Epoch 10/50\n",
            "118/118 [==============================] - 39s 331ms/step - loss: 0.7259 - accuracy: 0.7108 - val_loss: 0.8044 - val_accuracy: 0.6848\n",
            "Epoch 11/50\n",
            "118/118 [==============================] - 39s 330ms/step - loss: 0.7196 - accuracy: 0.7105 - val_loss: 0.8058 - val_accuracy: 0.6853\n",
            "Epoch 12/50\n",
            "118/118 [==============================] - 39s 331ms/step - loss: 0.7210 - accuracy: 0.7067 - val_loss: 0.8044 - val_accuracy: 0.6868\n",
            "Epoch 13/50\n",
            "118/118 [==============================] - 39s 331ms/step - loss: 0.7179 - accuracy: 0.7119 - val_loss: 0.8106 - val_accuracy: 0.6754\n",
            "Epoch 14/50\n",
            "118/118 [==============================] - 39s 331ms/step - loss: 0.7342 - accuracy: 0.7094 - val_loss: 0.8102 - val_accuracy: 0.6878\n",
            "Epoch 15/50\n",
            "118/118 [==============================] - 39s 331ms/step - loss: 0.7065 - accuracy: 0.7134 - val_loss: 0.8121 - val_accuracy: 0.6853\n",
            "Epoch 16/50\n",
            "118/118 [==============================] - 39s 331ms/step - loss: 0.7163 - accuracy: 0.7123 - val_loss: 0.8141 - val_accuracy: 0.6878\n",
            "Epoch 17/50\n",
            "118/118 [==============================] - 39s 330ms/step - loss: 0.7072 - accuracy: 0.7074 - val_loss: 0.8143 - val_accuracy: 0.6828\n",
            "Epoch 18/50\n",
            "118/118 [==============================] - 39s 330ms/step - loss: 0.6899 - accuracy: 0.7184 - val_loss: 0.8164 - val_accuracy: 0.6828\n",
            "Epoch 19/50\n",
            "118/118 [==============================] - 39s 330ms/step - loss: 0.6843 - accuracy: 0.7245 - val_loss: 0.8221 - val_accuracy: 0.6779\n",
            "Epoch 20/50\n",
            "118/118 [==============================] - 39s 329ms/step - loss: 0.6977 - accuracy: 0.7091 - val_loss: 0.8179 - val_accuracy: 0.6818\n",
            "Epoch 21/50\n",
            "118/118 [==============================] - 39s 331ms/step - loss: 0.6650 - accuracy: 0.7277 - val_loss: 0.8199 - val_accuracy: 0.6779\n",
            "Epoch 22/50\n",
            "118/118 [==============================] - 39s 332ms/step - loss: 0.6760 - accuracy: 0.7228 - val_loss: 0.8259 - val_accuracy: 0.6645\n",
            "Epoch 23/50\n",
            "118/118 [==============================] - 39s 331ms/step - loss: 0.6663 - accuracy: 0.7309 - val_loss: 0.8270 - val_accuracy: 0.6774\n",
            "Epoch 24/50\n",
            "118/118 [==============================] - 39s 331ms/step - loss: 0.6553 - accuracy: 0.7414 - val_loss: 0.8247 - val_accuracy: 0.6789\n",
            "Epoch 25/50\n",
            "118/118 [==============================] - 39s 332ms/step - loss: 0.6660 - accuracy: 0.7325 - val_loss: 0.8251 - val_accuracy: 0.6744\n",
            "Epoch 26/50\n",
            "118/118 [==============================] - 39s 332ms/step - loss: 0.6657 - accuracy: 0.7316 - val_loss: 0.8292 - val_accuracy: 0.6724\n",
            "Epoch 27/50\n",
            "118/118 [==============================] - 39s 330ms/step - loss: 0.6298 - accuracy: 0.7445 - val_loss: 0.8313 - val_accuracy: 0.6813\n",
            "Epoch 28/50\n",
            "118/118 [==============================] - 39s 330ms/step - loss: 0.6307 - accuracy: 0.7524 - val_loss: 0.8335 - val_accuracy: 0.6754\n",
            "Epoch 29/50\n",
            "118/118 [==============================] - 39s 329ms/step - loss: 0.6511 - accuracy: 0.7338 - val_loss: 0.8468 - val_accuracy: 0.6813\n",
            "Epoch 30/50\n",
            "118/118 [==============================] - 39s 332ms/step - loss: 0.6393 - accuracy: 0.7411 - val_loss: 0.8376 - val_accuracy: 0.6774\n",
            "Epoch 31/50\n",
            "118/118 [==============================] - 39s 330ms/step - loss: 0.6484 - accuracy: 0.7329 - val_loss: 0.8406 - val_accuracy: 0.6640\n",
            "Epoch 32/50\n",
            "118/118 [==============================] - 39s 329ms/step - loss: 0.6392 - accuracy: 0.7397 - val_loss: 0.8389 - val_accuracy: 0.6809\n",
            "Epoch 33/50\n",
            "118/118 [==============================] - 39s 329ms/step - loss: 0.6217 - accuracy: 0.7524 - val_loss: 0.8437 - val_accuracy: 0.6566\n",
            "Epoch 34/50\n",
            "118/118 [==============================] - 39s 328ms/step - loss: 0.6042 - accuracy: 0.7619 - val_loss: 0.8352 - val_accuracy: 0.6675\n",
            "Epoch 35/50\n",
            "118/118 [==============================] - 39s 330ms/step - loss: 0.6119 - accuracy: 0.7511 - val_loss: 0.8413 - val_accuracy: 0.6670\n",
            "Epoch 36/50\n",
            "118/118 [==============================] - 39s 333ms/step - loss: 0.6011 - accuracy: 0.7644 - val_loss: 0.8422 - val_accuracy: 0.6625\n",
            "Epoch 37/50\n",
            "118/118 [==============================] - 39s 329ms/step - loss: 0.5958 - accuracy: 0.7620 - val_loss: 0.8509 - val_accuracy: 0.6561\n",
            "Epoch 38/50\n",
            "118/118 [==============================] - 39s 332ms/step - loss: 0.5873 - accuracy: 0.7657 - val_loss: 0.8483 - val_accuracy: 0.6665\n",
            "Epoch 39/50\n",
            "118/118 [==============================] - 39s 329ms/step - loss: 0.5890 - accuracy: 0.7643 - val_loss: 0.8501 - val_accuracy: 0.6517\n",
            "Epoch 40/50\n",
            "118/118 [==============================] - 39s 330ms/step - loss: 0.6031 - accuracy: 0.7568 - val_loss: 0.8489 - val_accuracy: 0.6670\n",
            "Epoch 41/50\n",
            "118/118 [==============================] - 39s 329ms/step - loss: 0.5866 - accuracy: 0.7691 - val_loss: 0.8708 - val_accuracy: 0.6823\n",
            "Epoch 42/50\n",
            "118/118 [==============================] - 39s 330ms/step - loss: 0.5870 - accuracy: 0.7570 - val_loss: 0.8519 - val_accuracy: 0.6665\n",
            "Epoch 43/50\n",
            "118/118 [==============================] - 39s 328ms/step - loss: 0.5636 - accuracy: 0.7735 - val_loss: 0.8590 - val_accuracy: 0.6620\n",
            "Epoch 44/50\n",
            "118/118 [==============================] - 39s 330ms/step - loss: 0.5717 - accuracy: 0.7694 - val_loss: 0.8581 - val_accuracy: 0.6591\n",
            "Epoch 45/50\n",
            "118/118 [==============================] - 39s 329ms/step - loss: 0.5691 - accuracy: 0.7684 - val_loss: 0.8666 - val_accuracy: 0.6645\n",
            "Epoch 46/50\n",
            "118/118 [==============================] - 39s 333ms/step - loss: 0.5592 - accuracy: 0.7689 - val_loss: 0.8575 - val_accuracy: 0.6616\n",
            "Epoch 47/50\n",
            "118/118 [==============================] - 39s 332ms/step - loss: 0.5631 - accuracy: 0.7845 - val_loss: 0.8571 - val_accuracy: 0.6625\n",
            "Epoch 48/50\n",
            "118/118 [==============================] - 39s 331ms/step - loss: 0.5519 - accuracy: 0.7809 - val_loss: 0.8610 - val_accuracy: 0.6710\n",
            "Epoch 49/50\n",
            "118/118 [==============================] - 39s 330ms/step - loss: 0.5675 - accuracy: 0.7730 - val_loss: 0.8630 - val_accuracy: 0.6640\n",
            "Epoch 50/50\n",
            "118/118 [==============================] - 39s 330ms/step - loss: 0.5567 - accuracy: 0.7716 - val_loss: 0.8769 - val_accuracy: 0.6729\n"
          ],
          "name": "stdout"
        }
      ]
    },
    {
      "cell_type": "code",
      "metadata": {
        "colab": {
          "base_uri": "https://localhost:8080/"
        },
        "id": "mpJBmdhoUsb4",
        "outputId": "e7cdce9d-872f-486a-a87c-a7673004212c"
      },
      "source": [
        "# make predictions on the testing set\n",
        "print(\"[INFO] evaluating network...\")\n",
        "predIdxs = model.predict(testX, batch_size=BS)\n",
        "\n",
        "# for each image in the testing set we need to find the index of the\n",
        "# label with corresponding largest predicted probability\n",
        "predIdxs = np.argmax(predIdxs, axis=1)\n",
        "\n",
        "# show a nicely formatted classification report\n",
        "print(classification_report(testY.argmax(axis=1), predIdxs))"
      ],
      "execution_count": 35,
      "outputs": [
        {
          "output_type": "stream",
          "text": [
            "[INFO] evaluating network...\n",
            "              precision    recall  f1-score   support\n",
            "\n",
            "           0       0.70      0.95      0.80      1403\n",
            "           1       0.33      0.01      0.02       155\n",
            "           2       0.25      0.06      0.09       463\n",
            "\n",
            "    accuracy                           0.67      2021\n",
            "   macro avg       0.43      0.34      0.31      2021\n",
            "weighted avg       0.57      0.67      0.58      2021\n",
            "\n"
          ],
          "name": "stdout"
        }
      ]
    },
    {
      "cell_type": "code",
      "metadata": {
        "colab": {
          "base_uri": "https://localhost:8080/"
        },
        "id": "vqHRWEwB9Snl",
        "outputId": "13bbd86f-61b1-4a21-bebd-1564458840fc"
      },
      "source": [
        "# serialize the model to disk\n",
        "print(\"[INFO] saving mask detector model...\")\n",
        "from datetime import datetime\n",
        "now = datetime.now()\n",
        "dt_string = now.strftime(\"%Y_%m_%d_%H_%M_%S\")\n",
        "dt_string = \"mask_detector_Adam_\" + dt_string\n",
        "print(dt_string)\n",
        "model.save(\"Model/\"+ dt_string + \".h5\")\n"
      ],
      "execution_count": 36,
      "outputs": [
        {
          "output_type": "stream",
          "text": [
            "[INFO] saving mask detector model...\n",
            "mask_detector_Adam_2021_01_16_21_11_39\n"
          ],
          "name": "stdout"
        }
      ]
    },
    {
      "cell_type": "code",
      "metadata": {
        "colab": {
          "base_uri": "https://localhost:8080/",
          "height": 299
        },
        "id": "Im9EfZGMUwQX",
        "outputId": "f3a63024-4cc8-47c2-af76-46b47a30832c"
      },
      "source": [
        "# plot the training loss and accuracy\n",
        "\n",
        "\n",
        "N = EPOCHS\n",
        "plt.style.use(\"ggplot\")\n",
        "plt.figure()\n",
        "plt.plot(np.arange(0, N), H.history[\"loss\"], label=\"train_loss\")\n",
        "plt.plot(np.arange(0, N), H.history[\"val_loss\"], label=\"val_loss\")\n",
        "plt.plot(np.arange(0, N), H.history[\"accuracy\"], label=\"train_acc\")\n",
        "plt.plot(np.arange(0, N), H.history[\"val_accuracy\"], label=\"val_acc\")\n",
        "plt.title(\"Training Loss and Accuracy\")\n",
        "plt.xlabel(\"Epoch #\")\n",
        "plt.ylabel(\"Loss/Accuracy\")\n",
        "plt.legend(loc=\"lower left\")\n",
        "plt.savefig(\"Model/\"+ dt_string+\".png\")\n",
        "plt.show()"
      ],
      "execution_count": 37,
      "outputs": [
        {
          "output_type": "display_data",
          "data": {
            "image/png": "[encoded data removed]",
            "text/plain": [
              "<Figure size 432x288 with 1 Axes>"
            ]
          },
          "metadata": {
            "tags": []
          }
        }
      ]
    },
    {
      "cell_type": "code",
      "metadata": {
        "colab": {
          "base_uri": "https://localhost:8080/"
        },
        "id": "5zH1t2uNu5XQ",
        "outputId": "6b4b9342-0632-43fe-f85d-e49069a32964"
      },
      "source": [
        "IMAGE_PATHS=['MaskTrainDataset/JPEGImages/00000a0f3efefef6.jpg',\n",
        "     'MaskTrainDataset/JPEGImages/000004243e3cbf37.jpg',\n",
        "     'MaskTrainDataset/JPEGImages/00008dfffc3c3f1c.jpg',\n",
        "     'MaskTrainDataset/JPEGImages/004c381010ffffff.jpg',\n",
        "     'MaskTrainDataset/JPEGImages/4848dc7e3efeacbc.jpg',\n",
        "     'MaskTrainDataset/JPEGImages/60e0ecefefececc0.jpg',\n",
        "     'MaskTrainDataset/JPEGImages/00c6cf8f8fdfcf8f.jpg',\n",
        "     'MaskTrainDataset/JPEGImages/0f37f662600081e1.jpg',\n",
        "     'MaskTrainDataset/JPEGImages/0000fdfcbc000660.jpg',\n",
        "     'MaskTrainDataset/JPEGImages/0ff99100498989cf.jpg',\n",
        "     'MaskTrainDataset/JPEGImages/00000c3e3e3e3c3e.jpg',\n",
        "     'MaskTrainDataset/JPEGImages/0000d8fe1f09bfff.jpg',\n",
        "     'MaskTrainDataset/JPEGImages/0f3f7f3720f0c000.jpg',\n",
        "     'MaskTrainDataset/JPEGImages/1b1bdfdac9c80102.jpg',\n",
        "     'MaskTrainDataset/JPEGImages/0fbf2f2c39b0f0f0.jpg',\n",
        "     'MaskTrainDataset/JPEGImages/00000000046e677f.jpg',\n",
        "     'MaskTrainDataset/JPEGImages/000000080e1e3e3e.jpg']\n",
        "print(IMAGE_PATHS)"
      ],
      "execution_count": 38,
      "outputs": [
        {
          "output_type": "stream",
          "text": [
            "['MaskTrainDataset/JPEGImages/00000a0f3efefef6.jpg', 'MaskTrainDataset/JPEGImages/000004243e3cbf37.jpg', 'MaskTrainDataset/JPEGImages/00008dfffc3c3f1c.jpg', 'MaskTrainDataset/JPEGImages/004c381010ffffff.jpg', 'MaskTrainDataset/JPEGImages/4848dc7e3efeacbc.jpg', 'MaskTrainDataset/JPEGImages/60e0ecefefececc0.jpg', 'MaskTrainDataset/JPEGImages/00c6cf8f8fdfcf8f.jpg', 'MaskTrainDataset/JPEGImages/0f37f662600081e1.jpg', 'MaskTrainDataset/JPEGImages/0000fdfcbc000660.jpg', 'MaskTrainDataset/JPEGImages/0ff99100498989cf.jpg', 'MaskTrainDataset/JPEGImages/00000c3e3e3e3c3e.jpg', 'MaskTrainDataset/JPEGImages/0000d8fe1f09bfff.jpg', 'MaskTrainDataset/JPEGImages/0f3f7f3720f0c000.jpg', 'MaskTrainDataset/JPEGImages/1b1bdfdac9c80102.jpg', 'MaskTrainDataset/JPEGImages/0fbf2f2c39b0f0f0.jpg', 'MaskTrainDataset/JPEGImages/00000000046e677f.jpg', 'MaskTrainDataset/JPEGImages/000000080e1e3e3e.jpg']\n"
          ],
          "name": "stdout"
        }
      ]
    },
    {
      "cell_type": "code",
      "metadata": {
        "colab": {
          "base_uri": "https://localhost:8080/"
        },
        "id": "1d3_xLn99Bn4",
        "outputId": "8ce173ae-ded2-4e22-bc56-732d90582fe8"
      },
      "source": [
        "#load the saved model\n",
        "\n",
        "import keras\n",
        "\n",
        "# serialize the model to disk\n",
        "print(\"[INFO] saving mask detector model...\")\n",
        "\n",
        "\n",
        "saved_model_path = \"Model\"\n",
        "\n",
        "\n",
        "#tf.saved_model.save(model, saved_model_path)\n",
        "model.save(saved_model_path)\n",
        "\n"
      ],
      "execution_count": 39,
      "outputs": [
        {
          "output_type": "stream",
          "text": [
            "[INFO] saving mask detector model...\n",
            "INFO:tensorflow:Assets written to: Model/assets\n"
          ],
          "name": "stdout"
        }
      ]
    },
    {
      "cell_type": "code",
      "metadata": {
        "id": "mjW-UZC8Hhvc"
      },
      "source": [
        "import tensorflow as tf\n",
        "#print(dt_string)\n",
        "model = keras.models.load_model(\"Model/\"+dt_string + \".h5\")\n",
        "detect_fn=tf.saved_model.load(\"Model\")\n",
        "#detect_fn = keras.models.load_model(\"Model/mask_detector_Adam_2020_12_25_15_34_55.h5\")"
      ],
      "execution_count": 50,
      "outputs": []
    },
    {
      "cell_type": "code",
      "metadata": {
        "id": "DASXgQ8gsJkx"
      },
      "source": [
        "\"\"\"\n",
        "for image_path in IMAGE_PATHS:\n",
        "\n",
        "    print('Running inference for {}... '.format(image_path), end='')\n",
        "\n",
        "    image_np = load_image_into_numpy_array(image_path)\n",
        "\n",
        "    # Things to try:\n",
        "    # Flip horizontally\n",
        "    # image_np = np.fliplr(image_np).copy()\n",
        "\n",
        "    # Convert image to grayscale\n",
        "    # image_np = np.tile(\n",
        "    #     np.mean(image_np, 2, keepdims=True), (1, 1, 3)).astype(np.uint8)\n",
        "\n",
        "    # The input needs to be a tensor, convert it using `tf.convert_to_tensor`.\n",
        "    input_tensor = tf.convert_to_tensor(image_np)\n",
        "    # The model expects a batch of images, so add an axis with `tf.newaxis`.\n",
        "    input_tensor = input_tensor[tf.newaxis, ...]\n",
        "\n",
        "    #input_tensor = np.expand_dims(image_np, 0)\n",
        "    detections = detect_fn(input_tensor)\n",
        "\n",
        "    # All outputs are batches tensors.\n",
        "    # Convert to numpy arrays, and take index [0] to remove the batch dimension.\n",
        "    # We're only interested in the first num_detections.\n",
        "    num_detections = int(detections.pop('num_detections'))\n",
        "    detections = {key: value[0, :num_detections].numpy()\n",
        "                   for key, value in detections.items()}\n",
        "    detections['num_detections'] = num_detections\n",
        "\n",
        "    # detection_classes should be ints.\n",
        "    detections['detection_classes'] = detections['detection_classes'].astype(np.int64)\n",
        "\n",
        "    image_np_with_detections = image_np.copy()\n",
        "\n",
        "    viz_utils.visualize_boxes_and_labels_on_image_array(\n",
        "          image_np_with_detections,\n",
        "          detections['detection_boxes'],\n",
        "          detections['detection_classes'],\n",
        "          detections['detection_scores'],\n",
        "          category_index,\n",
        "          use_normalized_coordinates=True,\n",
        "          max_boxes_to_draw=200,\n",
        "          min_score_thresh=.30,\n",
        "          agnostic_mode=False)\n",
        "\n",
        "    plt.figure()\n",
        "    plt.imshow(image_np_with_detections)\n",
        "    print('Done')\n",
        "plt.show()\n",
        "\"\"\""
      ],
      "execution_count": null,
      "outputs": []
    },
    {
      "cell_type": "code",
      "metadata": {
        "colab": {
          "base_uri": "https://localhost:8080/",
          "height": 103
        },
        "id": "g9rdTWfLsLFf",
        "outputId": "16a9f9ed-50fc-4f95-a2a8-b3ed3271b941"
      },
      "source": [
        "#load the saved model RAdam\n",
        "\"\"\"\n",
        "print('loading model...')\n",
        "opt = tfa.optimizers.RectifiedAdam(\n",
        "    lr=1e-3,\n",
        "    total_steps=10000,\n",
        "    warmup_proportion=0.1,\n",
        "    min_lr=1e-5,\n",
        ")\n",
        "\n",
        "ranger = tfa.optimizers.Lookahead(opt, sync_period=6, slow_step_size=0.5, name='Lookahead',)\n",
        "\n",
        "model = tf.keras.models.load_model('mask_detector_2020_12_19_07_20.h5', custom_objects={'Lookahead': ranger})\n",
        "\n",
        "print('model loaded')\n",
        "\"\"\""
      ],
      "execution_count": 51,
      "outputs": [
        {
          "output_type": "execute_result",
          "data": {
            "application/vnd.google.colaboratory.intrinsic+json": {
              "type": "string"
            },
            "text/plain": [
              "\"\\nprint('loading model...')\\nopt = tfa.optimizers.RectifiedAdam(\\n    lr=1e-3,\\n    total_steps=10000,\\n    warmup_proportion=0.1,\\n    min_lr=1e-5,\\n)\\n\\nranger = tfa.optimizers.Lookahead(opt, sync_period=6, slow_step_size=0.5, name='Lookahead',)\\n\\nmodel = tf.keras.models.load_model('mask_detector_2020_12_19_07_20.h5', custom_objects={'Lookahead': ranger})\\n\\nprint('model loaded')\\n\""
            ]
          },
          "metadata": {
            "tags": []
          },
          "execution_count": 51
        }
      ]
    },
    {
      "cell_type": "code",
      "metadata": {
        "colab": {
          "base_uri": "https://localhost:8080/",
          "height": 69
        },
        "id": "9eF_dCAoWwn5",
        "outputId": "625e6c9e-c4a5-4c53-9b69-ee2704755308"
      },
      "source": [
        "\n",
        "#train the saved model again \n",
        "print(\"[INFO] compiling model...\")\n",
        "opt = Adam(lr=INIT_LR, decay=INIT_LR / EPOCHS)\n",
        "\"\"\"\n",
        "opt = tfa.optimizers.RectifiedAdam(\n",
        "    lr=INIT_LR,\n",
        "    total_steps=5000,\n",
        "    warmup_proportion=0.1,\n",
        "    min_lr=INIT_LR\n",
        ")\n",
        "\"\"\"\n",
        "# Utilisation de l'optimizer dans un model (déjà configuré avant)\n",
        "\n",
        "\n"
      ],
      "execution_count": 52,
      "outputs": [
        {
          "output_type": "stream",
          "text": [
            "[INFO] compiling model...\n"
          ],
          "name": "stdout"
        },
        {
          "output_type": "execute_result",
          "data": {
            "application/vnd.google.colaboratory.intrinsic+json": {
              "type": "string"
            },
            "text/plain": [
              "'\\nopt = tfa.optimizers.RectifiedAdam(\\n    lr=INIT_LR,\\n    total_steps=5000,\\n    warmup_proportion=0.1,\\n    min_lr=INIT_LR\\n)\\n'"
            ]
          },
          "metadata": {
            "tags": []
          },
          "execution_count": 52
        }
      ]
    },
    {
      "cell_type": "code",
      "metadata": {
        "id": "DRfBDBxTrZ5o"
      },
      "source": [
        "model.compile(loss=\"categorical_crossentropy\", optimizer=opt, metrics=[\"accuracy\"])"
      ],
      "execution_count": 53,
      "outputs": []
    },
    {
      "cell_type": "code",
      "metadata": {
        "colab": {
          "base_uri": "https://localhost:8080/"
        },
        "id": "VG6gSS20WsTo",
        "outputId": "75d96407-b98c-4696-eee7-b2097e72608f"
      },
      "source": [
        "\n",
        "\n",
        "# train the head of the network\n",
        "print(\"[INFO] training head...\")\n",
        "\n",
        "H = model.fit(\n",
        "\taug.flow(trainX, trainY, batch_size=BS),\n",
        "\n",
        "\tvalidation_data=(testX, testY),\n",
        "\n",
        "\tepochs=EPOCHS\n",
        "  )\n",
        "\n",
        "\n"
      ],
      "execution_count": 54,
      "outputs": [
        {
          "output_type": "stream",
          "text": [
            "[INFO] training head...\n",
            "Epoch 1/50\n",
            "118/118 [==============================] - 42s 332ms/step - loss: 0.4363 - accuracy: 0.8199 - val_loss: 0.9668 - val_accuracy: 0.6462\n",
            "Epoch 2/50\n",
            "118/118 [==============================] - 39s 328ms/step - loss: 0.4197 - accuracy: 0.8336 - val_loss: 0.9805 - val_accuracy: 0.6531\n",
            "Epoch 3/50\n",
            "118/118 [==============================] - 39s 327ms/step - loss: 0.4165 - accuracy: 0.8414 - val_loss: 0.9835 - val_accuracy: 0.6586\n",
            "Epoch 4/50\n",
            "118/118 [==============================] - 39s 327ms/step - loss: 0.4013 - accuracy: 0.8440 - val_loss: 0.9727 - val_accuracy: 0.6274\n",
            "Epoch 5/50\n",
            "118/118 [==============================] - 39s 330ms/step - loss: 0.4171 - accuracy: 0.8383 - val_loss: 0.9897 - val_accuracy: 0.6482\n",
            "Epoch 6/50\n",
            "118/118 [==============================] - 39s 328ms/step - loss: 0.4098 - accuracy: 0.8386 - val_loss: 0.9975 - val_accuracy: 0.6591\n",
            "Epoch 7/50\n",
            "118/118 [==============================] - 39s 327ms/step - loss: 0.3975 - accuracy: 0.8469 - val_loss: 0.9857 - val_accuracy: 0.6106\n",
            "Epoch 8/50\n",
            "118/118 [==============================] - 39s 328ms/step - loss: 0.4054 - accuracy: 0.8519 - val_loss: 0.9994 - val_accuracy: 0.6556\n",
            "Epoch 9/50\n",
            "118/118 [==============================] - 39s 327ms/step - loss: 0.4022 - accuracy: 0.8481 - val_loss: 0.9842 - val_accuracy: 0.6388\n",
            "Epoch 10/50\n",
            "118/118 [==============================] - 39s 329ms/step - loss: 0.3856 - accuracy: 0.8584 - val_loss: 0.9991 - val_accuracy: 0.6482\n",
            "Epoch 11/50\n",
            "118/118 [==============================] - 39s 327ms/step - loss: 0.4040 - accuracy: 0.8494 - val_loss: 1.0004 - val_accuracy: 0.6101\n",
            "Epoch 12/50\n",
            "118/118 [==============================] - 39s 327ms/step - loss: 0.4101 - accuracy: 0.8417 - val_loss: 1.0075 - val_accuracy: 0.6487\n",
            "Epoch 13/50\n",
            "118/118 [==============================] - 39s 330ms/step - loss: 0.3949 - accuracy: 0.8500 - val_loss: 1.0149 - val_accuracy: 0.6546\n",
            "Epoch 14/50\n",
            "118/118 [==============================] - 39s 328ms/step - loss: 0.4023 - accuracy: 0.8361 - val_loss: 1.0139 - val_accuracy: 0.6477\n",
            "Epoch 15/50\n",
            "118/118 [==============================] - 39s 327ms/step - loss: 0.3881 - accuracy: 0.8493 - val_loss: 1.0276 - val_accuracy: 0.6561\n",
            "Epoch 16/50\n",
            "118/118 [==============================] - 39s 329ms/step - loss: 0.3733 - accuracy: 0.8582 - val_loss: 1.0225 - val_accuracy: 0.6541\n",
            "Epoch 17/50\n",
            "118/118 [==============================] - 39s 328ms/step - loss: 0.3986 - accuracy: 0.8370 - val_loss: 1.0172 - val_accuracy: 0.6368\n",
            "Epoch 18/50\n",
            "118/118 [==============================] - 39s 329ms/step - loss: 0.4036 - accuracy: 0.8450 - val_loss: 1.0193 - val_accuracy: 0.6591\n",
            "Epoch 19/50\n",
            "118/118 [==============================] - 39s 329ms/step - loss: 0.3823 - accuracy: 0.8575 - val_loss: 1.0164 - val_accuracy: 0.6423\n",
            "Epoch 20/50\n",
            "118/118 [==============================] - 39s 329ms/step - loss: 0.3848 - accuracy: 0.8508 - val_loss: 1.0286 - val_accuracy: 0.6556\n",
            "Epoch 21/50\n",
            "118/118 [==============================] - 39s 330ms/step - loss: 0.3869 - accuracy: 0.8486 - val_loss: 1.0057 - val_accuracy: 0.6477\n",
            "Epoch 22/50\n",
            "118/118 [==============================] - 39s 329ms/step - loss: 0.3820 - accuracy: 0.8495 - val_loss: 1.0116 - val_accuracy: 0.6482\n",
            "Epoch 23/50\n",
            "118/118 [==============================] - 39s 328ms/step - loss: 0.3968 - accuracy: 0.8374 - val_loss: 1.0160 - val_accuracy: 0.6462\n",
            "Epoch 24/50\n",
            "118/118 [==============================] - 39s 329ms/step - loss: 0.3572 - accuracy: 0.8616 - val_loss: 1.0145 - val_accuracy: 0.6408\n",
            "Epoch 25/50\n",
            "118/118 [==============================] - 39s 327ms/step - loss: 0.3713 - accuracy: 0.8639 - val_loss: 1.0070 - val_accuracy: 0.6294\n",
            "Epoch 26/50\n",
            "118/118 [==============================] - 39s 328ms/step - loss: 0.3727 - accuracy: 0.8578 - val_loss: 1.0537 - val_accuracy: 0.6620\n",
            "Epoch 27/50\n",
            "118/118 [==============================] - 39s 329ms/step - loss: 0.4005 - accuracy: 0.8476 - val_loss: 1.0296 - val_accuracy: 0.6507\n",
            "Epoch 28/50\n",
            "118/118 [==============================] - 39s 327ms/step - loss: 0.3735 - accuracy: 0.8539 - val_loss: 1.0399 - val_accuracy: 0.6586\n",
            "Epoch 29/50\n",
            "118/118 [==============================] - 39s 330ms/step - loss: 0.3493 - accuracy: 0.8663 - val_loss: 1.0369 - val_accuracy: 0.6472\n",
            "Epoch 30/50\n",
            "118/118 [==============================] - 39s 329ms/step - loss: 0.3780 - accuracy: 0.8516 - val_loss: 1.0338 - val_accuracy: 0.6121\n",
            "Epoch 31/50\n",
            "118/118 [==============================] - 39s 328ms/step - loss: 0.3723 - accuracy: 0.8593 - val_loss: 1.0304 - val_accuracy: 0.6284\n",
            "Epoch 32/50\n",
            "118/118 [==============================] - 39s 329ms/step - loss: 0.3654 - accuracy: 0.8611 - val_loss: 1.0389 - val_accuracy: 0.6452\n",
            "Epoch 33/50\n",
            "118/118 [==============================] - 39s 329ms/step - loss: 0.3624 - accuracy: 0.8546 - val_loss: 1.0333 - val_accuracy: 0.6373\n",
            "Epoch 34/50\n",
            "118/118 [==============================] - 39s 327ms/step - loss: 0.3683 - accuracy: 0.8598 - val_loss: 1.0418 - val_accuracy: 0.6432\n",
            "Epoch 35/50\n",
            "118/118 [==============================] - 39s 331ms/step - loss: 0.3776 - accuracy: 0.8546 - val_loss: 1.0360 - val_accuracy: 0.6383\n",
            "Epoch 36/50\n",
            "118/118 [==============================] - 39s 329ms/step - loss: 0.3677 - accuracy: 0.8547 - val_loss: 1.0670 - val_accuracy: 0.6556\n",
            "Epoch 37/50\n",
            "118/118 [==============================] - 39s 332ms/step - loss: 0.3656 - accuracy: 0.8601 - val_loss: 1.0582 - val_accuracy: 0.6507\n",
            "Epoch 38/50\n",
            "118/118 [==============================] - 39s 330ms/step - loss: 0.3433 - accuracy: 0.8773 - val_loss: 1.0859 - val_accuracy: 0.6536\n",
            "Epoch 39/50\n",
            "118/118 [==============================] - 39s 329ms/step - loss: 0.3425 - accuracy: 0.8716 - val_loss: 1.0458 - val_accuracy: 0.6333\n",
            "Epoch 40/50\n",
            "118/118 [==============================] - 39s 329ms/step - loss: 0.3464 - accuracy: 0.8692 - val_loss: 1.0597 - val_accuracy: 0.6482\n",
            "Epoch 41/50\n",
            "118/118 [==============================] - 39s 330ms/step - loss: 0.3386 - accuracy: 0.8713 - val_loss: 1.0523 - val_accuracy: 0.6304\n",
            "Epoch 42/50\n",
            "118/118 [==============================] - 39s 329ms/step - loss: 0.3355 - accuracy: 0.8761 - val_loss: 1.0769 - val_accuracy: 0.6586\n",
            "Epoch 43/50\n",
            "118/118 [==============================] - 39s 330ms/step - loss: 0.3320 - accuracy: 0.8685 - val_loss: 1.0406 - val_accuracy: 0.6353\n",
            "Epoch 44/50\n",
            "118/118 [==============================] - 39s 331ms/step - loss: 0.3501 - accuracy: 0.8715 - val_loss: 1.0714 - val_accuracy: 0.6106\n",
            "Epoch 45/50\n",
            "118/118 [==============================] - 39s 332ms/step - loss: 0.3614 - accuracy: 0.8571 - val_loss: 1.0666 - val_accuracy: 0.6027\n",
            "Epoch 46/50\n",
            "118/118 [==============================] - 39s 329ms/step - loss: 0.3496 - accuracy: 0.8683 - val_loss: 1.1010 - val_accuracy: 0.6561\n",
            "Epoch 47/50\n",
            "118/118 [==============================] - 39s 329ms/step - loss: 0.3416 - accuracy: 0.8669 - val_loss: 1.0619 - val_accuracy: 0.6388\n",
            "Epoch 48/50\n",
            "118/118 [==============================] - 39s 328ms/step - loss: 0.3469 - accuracy: 0.8669 - val_loss: 1.0626 - val_accuracy: 0.6279\n",
            "Epoch 49/50\n",
            "118/118 [==============================] - 39s 330ms/step - loss: 0.3325 - accuracy: 0.8741 - val_loss: 1.0576 - val_accuracy: 0.6294\n",
            "Epoch 50/50\n",
            "118/118 [==============================] - 39s 327ms/step - loss: 0.3335 - accuracy: 0.8774 - val_loss: 1.0614 - val_accuracy: 0.6230\n"
          ],
          "name": "stdout"
        }
      ]
    },
    {
      "cell_type": "code",
      "metadata": {
        "colab": {
          "base_uri": "https://localhost:8080/"
        },
        "id": "BtosBF9ZXNyo",
        "outputId": "23c618c3-3dee-4e39-c6ab-f4ad5cd7b46b"
      },
      "source": [
        "#Evaluate the model again\n",
        "print(\"[INFO] evaluating network...\")\n",
        "predIdxs = model.predict(testX, batch_size=32)\n",
        "\n",
        "# for each image in the testing set we need to find the index of the\n",
        "# label with corresponding largest predicted probability\n",
        "predIdxs = np.argmax(predIdxs, axis=1)\n",
        "\n",
        "# show a nicely formatted classification report\n",
        "print(classification_report(testY.argmax(axis=1), predIdxs))\n"
      ],
      "execution_count": 55,
      "outputs": [
        {
          "output_type": "stream",
          "text": [
            "[INFO] evaluating network...\n",
            "              precision    recall  f1-score   support\n",
            "\n",
            "           0       0.70      0.84      0.76      1403\n",
            "           1       0.14      0.05      0.07       155\n",
            "           2       0.25      0.16      0.19       463\n",
            "\n",
            "    accuracy                           0.62      2021\n",
            "   macro avg       0.36      0.35      0.34      2021\n",
            "weighted avg       0.56      0.62      0.58      2021\n",
            "\n"
          ],
          "name": "stdout"
        }
      ]
    },
    {
      "cell_type": "code",
      "metadata": {
        "colab": {
          "base_uri": "https://localhost:8080/",
          "height": 299
        },
        "id": "xbz7lDVy9tMf",
        "outputId": "5c62debc-4364-4cdb-a92d-6a4db6a53e37"
      },
      "source": [
        "\n",
        "# plot the training loss and accuracy\n",
        "\n",
        "N = EPOCHS\n",
        "plt.style.use(\"ggplot\")\n",
        "plt.figure()\n",
        "plt.plot(np.arange(0, N), H.history[\"loss\"], label=\"train_loss\")\n",
        "plt.plot(np.arange(0, N), H.history[\"val_loss\"], label=\"val_loss\")\n",
        "plt.plot(np.arange(0, N), H.history[\"accuracy\"], label=\"train_acc\")\n",
        "plt.plot(np.arange(0, N), H.history[\"val_accuracy\"], label=\"val_acc\")\n",
        "plt.title(\"Training Loss and Accuracy\")\n",
        "plt.xlabel(\"Epoch #\")\n",
        "plt.ylabel(\"Loss/Accuracy\")\n",
        "plt.legend(loc=\"lower left\")\n",
        "plt.savefig(\"Model/\"+ dt_string+\"_V0_1.png\")\n",
        "plt.show()"
      ],
      "execution_count": 56,
      "outputs": [
        {
          "output_type": "display_data",
          "data": {
            "image/png": "[encoded data removed]",
            "text/plain": [
              "<Figure size 432x288 with 1 Axes>"
            ]
          },
          "metadata": {
            "tags": []
          }
        }
      ]
    },
    {
      "cell_type": "code",
      "metadata": {
        "colab": {
          "base_uri": "https://localhost:8080/"
        },
        "id": "0_F8gT6F9yZG",
        "outputId": "a27f7807-882c-4709-e77a-1ccf51e90adf"
      },
      "source": [
        "# serialize the model to disk\n",
        "print(\"[INFO] saving mask detector model...\")\n",
        "model.save(\"Model/\"+ dt_string+ \"_V0_1.h5\")"
      ],
      "execution_count": 57,
      "outputs": [
        {
          "output_type": "stream",
          "text": [
            "[INFO] saving mask detector model...\n"
          ],
          "name": "stdout"
        }
      ]
    },
    {
      "cell_type": "code",
      "metadata": {
        "colab": {
          "base_uri": "https://localhost:8080/",
          "height": 425
        },
        "id": "85_Cnuzoxp-u",
        "outputId": "a93b34fd-68d6-492b-e7cb-2c83fed413ce"
      },
      "source": [
        "\"\"\"\n",
        "for image_path in IMAGE_PATHS:\n",
        "\n",
        "    print('Running inference for {}... '.format(image_path), end='')\n",
        "\n",
        "    image_np = load_image_into_numpy_array(image_path)\n",
        "\n",
        "    # Things to try:\n",
        "    # Flip horizontally\n",
        "    image_np = np.fliplr(image_np).copy()\n",
        "\n",
        "    # Convert image to grayscale\n",
        "    image_np = np.tile(\n",
        "        np.mean(image_np, 2, keepdims=True), (1, 1, 3)).astype(np.uint8)\n",
        "\n",
        "    # The input needs to be a tensor, convert it using `tf.convert_to_tensor`.\n",
        "    input_tensor = tf.convert_to_tensor(image_np)\n",
        "    # The model expects a batch of images, so add an axis with `tf.newaxis`.\n",
        "    input_tensor = input_tensor[tf.newaxis, ...]\n",
        "\n",
        "    input_tensor = np.expand_dims(image_np, 0)\n",
        "    detections = model(input_tensor)\n",
        "\n",
        "    # All outputs are batches tensors.\n",
        "    # Convert to numpy arrays, and take index [0] to remove the batch dimension.\n",
        "    # We're only interested in the first num_detections.\n",
        "    num_detections = int(detections.pop('num_detections'))\n",
        "    detections = {key: value[0, :num_detections].numpy()\n",
        "                   for key, value in detections.items()}\n",
        "    detections['num_detections'] = num_detections\n",
        "\n",
        "    # detection_classes should be ints.\n",
        "    detections['detection_classes'] = detections['detection_classes'].astype(np.int64)\n",
        "\n",
        "    image_np_with_detections = image_np.copy()\n",
        "\n",
        "    viz_utils.visualize_boxes_and_labels_on_image_array(\n",
        "          image_np_with_detections,\n",
        "          detections['detection_boxes'],\n",
        "          detections['detection_classes'],\n",
        "          detections['detection_scores'],\n",
        "          category_index,\n",
        "          use_normalized_coordinates=True,\n",
        "          max_boxes_to_draw=200,\n",
        "          min_score_thresh=.30,\n",
        "          agnostic_mode=False)\n",
        "\n",
        "    plt.figure()\n",
        "    plt.imshow(image_np_with_detections)\n",
        "    print('Done')\n",
        "plt.show()\n",
        "\"\"\""
      ],
      "execution_count": 49,
      "outputs": [
        {
          "output_type": "stream",
          "text": [
            "Running inference for MaskTrainDataset/JPEGImages/00000a0f3efefef6.jpg... "
          ],
          "name": "stdout"
        },
        {
          "output_type": "error",
          "ename": "ValueError",
          "evalue": "ignored",
          "traceback": [
            "\u001b[0;31m---------------------------------------------------------------------------\u001b[0m",
            "\u001b[0;31mValueError\u001b[0m                                Traceback (most recent call last)",
            "\u001b[0;32m<ipython-input-49-95073bbeaaea>\u001b[0m in \u001b[0;36m<module>\u001b[0;34m()\u001b[0m\n\u001b[1;32m     20\u001b[0m \u001b[0;34m\u001b[0m\u001b[0m\n\u001b[1;32m     21\u001b[0m     \u001b[0minput_tensor\u001b[0m \u001b[0;34m=\u001b[0m \u001b[0mnp\u001b[0m\u001b[0;34m.\u001b[0m\u001b[0mexpand_dims\u001b[0m\u001b[0;34m(\u001b[0m\u001b[0mimage_np\u001b[0m\u001b[0;34m,\u001b[0m \u001b[0;36m0\u001b[0m\u001b[0;34m)\u001b[0m\u001b[0;34m\u001b[0m\u001b[0;34m\u001b[0m\u001b[0m\n\u001b[0;32m---> 22\u001b[0;31m     \u001b[0mdetections\u001b[0m \u001b[0;34m=\u001b[0m \u001b[0mmodel\u001b[0m\u001b[0;34m(\u001b[0m\u001b[0minput_tensor\u001b[0m\u001b[0;34m)\u001b[0m\u001b[0;34m\u001b[0m\u001b[0;34m\u001b[0m\u001b[0m\n\u001b[0m\u001b[1;32m     23\u001b[0m \u001b[0;34m\u001b[0m\u001b[0m\n\u001b[1;32m     24\u001b[0m     \u001b[0;31m# All outputs are batches tensors.\u001b[0m\u001b[0;34m\u001b[0m\u001b[0;34m\u001b[0m\u001b[0;34m\u001b[0m\u001b[0m\n",
            "\u001b[0;32m/usr/local/lib/python3.6/dist-packages/tensorflow/python/keras/engine/base_layer.py\u001b[0m in \u001b[0;36m__call__\u001b[0;34m(self, *args, **kwargs)\u001b[0m\n\u001b[1;32m    996\u001b[0m         \u001b[0minputs\u001b[0m \u001b[0;34m=\u001b[0m \u001b[0mself\u001b[0m\u001b[0;34m.\u001b[0m\u001b[0m_maybe_cast_inputs\u001b[0m\u001b[0;34m(\u001b[0m\u001b[0minputs\u001b[0m\u001b[0;34m,\u001b[0m \u001b[0minput_list\u001b[0m\u001b[0;34m)\u001b[0m\u001b[0;34m\u001b[0m\u001b[0;34m\u001b[0m\u001b[0m\n\u001b[1;32m    997\u001b[0m \u001b[0;34m\u001b[0m\u001b[0m\n\u001b[0;32m--> 998\u001b[0;31m       \u001b[0minput_spec\u001b[0m\u001b[0;34m.\u001b[0m\u001b[0massert_input_compatibility\u001b[0m\u001b[0;34m(\u001b[0m\u001b[0mself\u001b[0m\u001b[0;34m.\u001b[0m\u001b[0minput_spec\u001b[0m\u001b[0;34m,\u001b[0m \u001b[0minputs\u001b[0m\u001b[0;34m,\u001b[0m \u001b[0mself\u001b[0m\u001b[0;34m.\u001b[0m\u001b[0mname\u001b[0m\u001b[0;34m)\u001b[0m\u001b[0;34m\u001b[0m\u001b[0;34m\u001b[0m\u001b[0m\n\u001b[0m\u001b[1;32m    999\u001b[0m       \u001b[0;32mif\u001b[0m \u001b[0meager\u001b[0m\u001b[0;34m:\u001b[0m\u001b[0;34m\u001b[0m\u001b[0;34m\u001b[0m\u001b[0m\n\u001b[1;32m   1000\u001b[0m         \u001b[0mcall_fn\u001b[0m \u001b[0;34m=\u001b[0m \u001b[0mself\u001b[0m\u001b[0;34m.\u001b[0m\u001b[0mcall\u001b[0m\u001b[0;34m\u001b[0m\u001b[0;34m\u001b[0m\u001b[0m\n",
            "\u001b[0;32m/usr/local/lib/python3.6/dist-packages/tensorflow/python/keras/engine/input_spec.py\u001b[0m in \u001b[0;36massert_input_compatibility\u001b[0;34m(input_spec, inputs, layer_name)\u001b[0m\n\u001b[1;32m    272\u001b[0m                              \u001b[0;34m' is incompatible with layer '\u001b[0m \u001b[0;34m+\u001b[0m \u001b[0mlayer_name\u001b[0m \u001b[0;34m+\u001b[0m\u001b[0;34m\u001b[0m\u001b[0;34m\u001b[0m\u001b[0m\n\u001b[1;32m    273\u001b[0m                              \u001b[0;34m': expected shape='\u001b[0m \u001b[0;34m+\u001b[0m \u001b[0mstr\u001b[0m\u001b[0;34m(\u001b[0m\u001b[0mspec\u001b[0m\u001b[0;34m.\u001b[0m\u001b[0mshape\u001b[0m\u001b[0;34m)\u001b[0m \u001b[0;34m+\u001b[0m\u001b[0;34m\u001b[0m\u001b[0;34m\u001b[0m\u001b[0m\n\u001b[0;32m--> 274\u001b[0;31m                              ', found shape=' + display_shape(x.shape))\n\u001b[0m\u001b[1;32m    275\u001b[0m \u001b[0;34m\u001b[0m\u001b[0m\n\u001b[1;32m    276\u001b[0m \u001b[0;34m\u001b[0m\u001b[0m\n",
            "\u001b[0;31mValueError\u001b[0m: Input 0 is incompatible with layer model_1: expected shape=(None, 224, 224, 3), found shape=(1, 300, 400, 3)"
          ]
        }
      ]
    }
  ]
}